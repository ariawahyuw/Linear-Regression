{
 "cells": [
  {
   "cell_type": "code",
   "execution_count": 1,
   "id": "19a2ae7a",
   "metadata": {
    "_cell_guid": "b1076dfc-b9ad-4769-8c92-a6c4dae69d19",
    "_uuid": "8f2839f25d086af736a60e9eeb907d3b93b6e0e5",
    "execution": {
     "iopub.execute_input": "2022-12-06T10:50:22.175861Z",
     "iopub.status.busy": "2022-12-06T10:50:22.175397Z",
     "iopub.status.idle": "2022-12-06T10:50:23.773482Z",
     "shell.execute_reply": "2022-12-06T10:50:23.771712Z"
    },
    "papermill": {
     "duration": 1.608238,
     "end_time": "2022-12-06T10:50:23.776671",
     "exception": false,
     "start_time": "2022-12-06T10:50:22.168433",
     "status": "completed"
    },
    "tags": []
   },
   "outputs": [],
   "source": [
    "import numpy as np\n",
    "import pandas as pd\n",
    "from sklearn.pipeline import Pipeline\n",
    "from sklearn.preprocessing import MinMaxScaler\n",
    "from sklearn.preprocessing import PolynomialFeatures\n",
    "from sklearn.linear_model import LinearRegression\n",
    "import matplotlib.pyplot as plt\n",
    "import os"
   ]
  },
  {
   "cell_type": "code",
   "execution_count": 2,
   "id": "a5deef7c",
   "metadata": {
    "execution": {
     "iopub.execute_input": "2022-12-06T10:50:23.786347Z",
     "iopub.status.busy": "2022-12-06T10:50:23.785891Z",
     "iopub.status.idle": "2022-12-06T10:50:23.798459Z",
     "shell.execute_reply": "2022-12-06T10:50:23.797304Z"
    },
    "papermill": {
     "duration": 0.020097,
     "end_time": "2022-12-06T10:50:23.800819",
     "exception": false,
     "start_time": "2022-12-06T10:50:23.780722",
     "status": "completed"
    },
    "tags": []
   },
   "outputs": [
    {
     "name": "stdout",
     "output_type": "stream",
     "text": [
      "/kaggle/input/national-universities-rankings-explore-quality-t/National Universities Rankings.csv\n"
     ]
    }
   ],
   "source": [
    "for dirname, _, filenames in os.walk('/kaggle/input'):\n",
    "    for filename in filenames:\n",
    "        path = os.path.join(dirname, filename)\n",
    "        print(path)"
   ]
  },
  {
   "cell_type": "code",
   "execution_count": 3,
   "id": "97955912",
   "metadata": {
    "execution": {
     "iopub.execute_input": "2022-12-06T10:50:23.811078Z",
     "iopub.status.busy": "2022-12-06T10:50:23.810053Z",
     "iopub.status.idle": "2022-12-06T10:50:23.862929Z",
     "shell.execute_reply": "2022-12-06T10:50:23.861513Z"
    },
    "papermill": {
     "duration": 0.060762,
     "end_time": "2022-12-06T10:50:23.865445",
     "exception": false,
     "start_time": "2022-12-06T10:50:23.804683",
     "status": "completed"
    },
    "tags": []
   },
   "outputs": [
    {
     "data": {
      "text/html": [
       "<div>\n",
       "<style scoped>\n",
       "    .dataframe tbody tr th:only-of-type {\n",
       "        vertical-align: middle;\n",
       "    }\n",
       "\n",
       "    .dataframe tbody tr th {\n",
       "        vertical-align: top;\n",
       "    }\n",
       "\n",
       "    .dataframe thead th {\n",
       "        text-align: right;\n",
       "    }\n",
       "</style>\n",
       "<table border=\"1\" class=\"dataframe\">\n",
       "  <thead>\n",
       "    <tr style=\"text-align: right;\">\n",
       "      <th></th>\n",
       "      <th>index</th>\n",
       "      <th>Name</th>\n",
       "      <th>Location</th>\n",
       "      <th>Rank</th>\n",
       "      <th>Description</th>\n",
       "      <th>Tuition and fees</th>\n",
       "      <th>In-state</th>\n",
       "      <th>Undergrad Enrollment</th>\n",
       "    </tr>\n",
       "  </thead>\n",
       "  <tbody>\n",
       "    <tr>\n",
       "      <th>0</th>\n",
       "      <td>0</td>\n",
       "      <td>Princeton University</td>\n",
       "      <td>Princeton, NJ</td>\n",
       "      <td>1</td>\n",
       "      <td>Princeton, the fourth-oldest college in the Un...</td>\n",
       "      <td>$45,320</td>\n",
       "      <td>NaN</td>\n",
       "      <td>5,402</td>\n",
       "    </tr>\n",
       "    <tr>\n",
       "      <th>1</th>\n",
       "      <td>1</td>\n",
       "      <td>Harvard University</td>\n",
       "      <td>Cambridge, MA</td>\n",
       "      <td>2</td>\n",
       "      <td>Harvard is located in Cambridge, Massachusetts...</td>\n",
       "      <td>$47,074</td>\n",
       "      <td>NaN</td>\n",
       "      <td>6,699</td>\n",
       "    </tr>\n",
       "    <tr>\n",
       "      <th>2</th>\n",
       "      <td>2</td>\n",
       "      <td>University of Chicago</td>\n",
       "      <td>Chicago, IL</td>\n",
       "      <td>3</td>\n",
       "      <td>The University of Chicago, situated in Chicago...</td>\n",
       "      <td>$52,491</td>\n",
       "      <td>NaN</td>\n",
       "      <td>5,844</td>\n",
       "    </tr>\n",
       "    <tr>\n",
       "      <th>3</th>\n",
       "      <td>3</td>\n",
       "      <td>Yale University</td>\n",
       "      <td>New Haven, CT</td>\n",
       "      <td>3</td>\n",
       "      <td>Yale University, located in New Haven, Connect...</td>\n",
       "      <td>$49,480</td>\n",
       "      <td>NaN</td>\n",
       "      <td>5,532</td>\n",
       "    </tr>\n",
       "    <tr>\n",
       "      <th>4</th>\n",
       "      <td>4</td>\n",
       "      <td>Columbia University</td>\n",
       "      <td>New York, NY</td>\n",
       "      <td>5</td>\n",
       "      <td>Columbia University, located in Manhattan's Mo...</td>\n",
       "      <td>$55,056</td>\n",
       "      <td>NaN</td>\n",
       "      <td>6,102</td>\n",
       "    </tr>\n",
       "  </tbody>\n",
       "</table>\n",
       "</div>"
      ],
      "text/plain": [
       "   index                   Name       Location  Rank  \\\n",
       "0      0   Princeton University  Princeton, NJ     1   \n",
       "1      1     Harvard University  Cambridge, MA     2   \n",
       "2      2  University of Chicago    Chicago, IL     3   \n",
       "3      3        Yale University  New Haven, CT     3   \n",
       "4      4    Columbia University   New York, NY     5   \n",
       "\n",
       "                                         Description Tuition and fees  \\\n",
       "0  Princeton, the fourth-oldest college in the Un...         $45,320    \n",
       "1  Harvard is located in Cambridge, Massachusetts...         $47,074    \n",
       "2  The University of Chicago, situated in Chicago...         $52,491    \n",
       "3  Yale University, located in New Haven, Connect...         $49,480    \n",
       "4  Columbia University, located in Manhattan's Mo...         $55,056    \n",
       "\n",
       "  In-state Undergrad Enrollment  \n",
       "0      NaN                5,402  \n",
       "1      NaN                6,699  \n",
       "2      NaN                5,844  \n",
       "3      NaN                5,532  \n",
       "4      NaN                6,102  "
      ]
     },
     "execution_count": 3,
     "metadata": {},
     "output_type": "execute_result"
    }
   ],
   "source": [
    "df = pd.read_csv(path)\n",
    "df.head()"
   ]
  },
  {
   "cell_type": "code",
   "execution_count": 4,
   "id": "c9ecb8f3",
   "metadata": {
    "execution": {
     "iopub.execute_input": "2022-12-06T10:50:23.875327Z",
     "iopub.status.busy": "2022-12-06T10:50:23.874877Z",
     "iopub.status.idle": "2022-12-06T10:50:23.884289Z",
     "shell.execute_reply": "2022-12-06T10:50:23.883155Z"
    },
    "papermill": {
     "duration": 0.017258,
     "end_time": "2022-12-06T10:50:23.886875",
     "exception": false,
     "start_time": "2022-12-06T10:50:23.869617",
     "status": "completed"
    },
    "tags": []
   },
   "outputs": [
    {
     "data": {
      "text/plain": [
       "index                    int64\n",
       "Name                    object\n",
       "Location                object\n",
       "Rank                     int64\n",
       "Description             object\n",
       "Tuition and fees        object\n",
       "In-state                object\n",
       "Undergrad Enrollment    object\n",
       "dtype: object"
      ]
     },
     "execution_count": 4,
     "metadata": {},
     "output_type": "execute_result"
    }
   ],
   "source": [
    "df.dtypes"
   ]
  },
  {
   "cell_type": "code",
   "execution_count": 5,
   "id": "c1e39595",
   "metadata": {
    "execution": {
     "iopub.execute_input": "2022-12-06T10:50:23.897130Z",
     "iopub.status.busy": "2022-12-06T10:50:23.896698Z",
     "iopub.status.idle": "2022-12-06T10:50:23.919591Z",
     "shell.execute_reply": "2022-12-06T10:50:23.918205Z"
    },
    "papermill": {
     "duration": 0.031393,
     "end_time": "2022-12-06T10:50:23.922539",
     "exception": false,
     "start_time": "2022-12-06T10:50:23.891146",
     "status": "completed"
    },
    "tags": []
   },
   "outputs": [],
   "source": [
    "new_df = df.drop(columns=[\"In-state\",\"Description\", \"index\"])\n",
    "new_df.columns = [\"name\", \"loc\", \"rank\", \"tuition\", \"enrollment\"]\n",
    "new_df[\"tuition\"] = new_df[\"tuition\"].str.replace(r'\\D+','', regex=True).astype(int)\n",
    "new_df[\"enrollment\"] = new_df[\"enrollment\"].str.replace(r'\\D+','', regex=True).astype(int)\n",
    "new_df[\"loc\"] = new_df[\"loc\"].str.slice(-2)\n",
    "new_df.sort_values(\"rank\", axis=0, inplace=True)"
   ]
  },
  {
   "cell_type": "code",
   "execution_count": 6,
   "id": "a026d8e7",
   "metadata": {
    "execution": {
     "iopub.execute_input": "2022-12-06T10:50:23.933383Z",
     "iopub.status.busy": "2022-12-06T10:50:23.932966Z",
     "iopub.status.idle": "2022-12-06T10:50:23.955439Z",
     "shell.execute_reply": "2022-12-06T10:50:23.954163Z"
    },
    "papermill": {
     "duration": 0.031428,
     "end_time": "2022-12-06T10:50:23.958447",
     "exception": false,
     "start_time": "2022-12-06T10:50:23.927019",
     "status": "completed"
    },
    "tags": []
   },
   "outputs": [
    {
     "data": {
      "text/html": [
       "<div>\n",
       "<style scoped>\n",
       "    .dataframe tbody tr th:only-of-type {\n",
       "        vertical-align: middle;\n",
       "    }\n",
       "\n",
       "    .dataframe tbody tr th {\n",
       "        vertical-align: top;\n",
       "    }\n",
       "\n",
       "    .dataframe thead th {\n",
       "        text-align: right;\n",
       "    }\n",
       "</style>\n",
       "<table border=\"1\" class=\"dataframe\">\n",
       "  <thead>\n",
       "    <tr style=\"text-align: right;\">\n",
       "      <th></th>\n",
       "      <th>name</th>\n",
       "      <th>loc</th>\n",
       "      <th>rank</th>\n",
       "      <th>tuition</th>\n",
       "      <th>enrollment</th>\n",
       "    </tr>\n",
       "  </thead>\n",
       "  <tbody>\n",
       "    <tr>\n",
       "      <th>67</th>\n",
       "      <td>Brigham Young University--Provo</td>\n",
       "      <td>UT</td>\n",
       "      <td>68</td>\n",
       "      <td>5300</td>\n",
       "      <td>30221</td>\n",
       "    </tr>\n",
       "  </tbody>\n",
       "</table>\n",
       "</div>"
      ],
      "text/plain": [
       "                               name loc  rank  tuition  enrollment\n",
       "67  Brigham Young University--Provo  UT    68     5300       30221"
      ]
     },
     "execution_count": 6,
     "metadata": {},
     "output_type": "execute_result"
    }
   ],
   "source": [
    "def detect_outliers(series):\n",
    "    # Calculate the interquartile range (IQR)\n",
    "    Q1 = series.quantile(0.25)\n",
    "    Q3 = series.quantile(0.75)\n",
    "    IQR = Q3 - Q1\n",
    "    \n",
    "    # Identify the rows that contain outliers\n",
    "    outlier_rows = series[~((series >= (Q1 - 1. * IQR)) & (series <= (Q3 + 1. * IQR)))]\n",
    "    \n",
    "    # Return the outliers\n",
    "    return outlier_rows.index\n",
    "\n",
    "rows = detect_outliers(new_df[\"tuition\"])\n",
    "new_df.loc[rows]"
   ]
  },
  {
   "cell_type": "code",
   "execution_count": 7,
   "id": "e291653c",
   "metadata": {
    "execution": {
     "iopub.execute_input": "2022-12-06T10:50:23.969649Z",
     "iopub.status.busy": "2022-12-06T10:50:23.969260Z",
     "iopub.status.idle": "2022-12-06T10:50:23.976517Z",
     "shell.execute_reply": "2022-12-06T10:50:23.975190Z"
    },
    "papermill": {
     "duration": 0.016206,
     "end_time": "2022-12-06T10:50:23.979215",
     "exception": false,
     "start_time": "2022-12-06T10:50:23.963009",
     "status": "completed"
    },
    "tags": []
   },
   "outputs": [],
   "source": [
    "new_df.drop(rows, inplace=True)"
   ]
  },
  {
   "cell_type": "code",
   "execution_count": 8,
   "id": "fa8da30c",
   "metadata": {
    "execution": {
     "iopub.execute_input": "2022-12-06T10:50:23.990127Z",
     "iopub.status.busy": "2022-12-06T10:50:23.989723Z",
     "iopub.status.idle": "2022-12-06T10:50:24.002406Z",
     "shell.execute_reply": "2022-12-06T10:50:24.001205Z"
    },
    "papermill": {
     "duration": 0.021049,
     "end_time": "2022-12-06T10:50:24.004909",
     "exception": false,
     "start_time": "2022-12-06T10:50:23.983860",
     "status": "completed"
    },
    "tags": []
   },
   "outputs": [
    {
     "data": {
      "text/html": [
       "<div>\n",
       "<style scoped>\n",
       "    .dataframe tbody tr th:only-of-type {\n",
       "        vertical-align: middle;\n",
       "    }\n",
       "\n",
       "    .dataframe tbody tr th {\n",
       "        vertical-align: top;\n",
       "    }\n",
       "\n",
       "    .dataframe thead th {\n",
       "        text-align: right;\n",
       "    }\n",
       "</style>\n",
       "<table border=\"1\" class=\"dataframe\">\n",
       "  <thead>\n",
       "    <tr style=\"text-align: right;\">\n",
       "      <th></th>\n",
       "      <th>name</th>\n",
       "      <th>loc</th>\n",
       "      <th>rank</th>\n",
       "      <th>tuition</th>\n",
       "      <th>enrollment</th>\n",
       "    </tr>\n",
       "  </thead>\n",
       "  <tbody>\n",
       "    <tr>\n",
       "      <th>0</th>\n",
       "      <td>Princeton University</td>\n",
       "      <td>NJ</td>\n",
       "      <td>1</td>\n",
       "      <td>45320</td>\n",
       "      <td>5402</td>\n",
       "    </tr>\n",
       "    <tr>\n",
       "      <th>1</th>\n",
       "      <td>Harvard University</td>\n",
       "      <td>MA</td>\n",
       "      <td>2</td>\n",
       "      <td>47074</td>\n",
       "      <td>6699</td>\n",
       "    </tr>\n",
       "    <tr>\n",
       "      <th>2</th>\n",
       "      <td>University of Chicago</td>\n",
       "      <td>IL</td>\n",
       "      <td>3</td>\n",
       "      <td>52491</td>\n",
       "      <td>5844</td>\n",
       "    </tr>\n",
       "    <tr>\n",
       "      <th>3</th>\n",
       "      <td>Yale University</td>\n",
       "      <td>CT</td>\n",
       "      <td>3</td>\n",
       "      <td>49480</td>\n",
       "      <td>5532</td>\n",
       "    </tr>\n",
       "    <tr>\n",
       "      <th>4</th>\n",
       "      <td>Columbia University</td>\n",
       "      <td>NY</td>\n",
       "      <td>5</td>\n",
       "      <td>55056</td>\n",
       "      <td>6102</td>\n",
       "    </tr>\n",
       "  </tbody>\n",
       "</table>\n",
       "</div>"
      ],
      "text/plain": [
       "                    name loc  rank  tuition  enrollment\n",
       "0   Princeton University  NJ     1    45320        5402\n",
       "1     Harvard University  MA     2    47074        6699\n",
       "2  University of Chicago  IL     3    52491        5844\n",
       "3        Yale University  CT     3    49480        5532\n",
       "4    Columbia University  NY     5    55056        6102"
      ]
     },
     "execution_count": 8,
     "metadata": {},
     "output_type": "execute_result"
    }
   ],
   "source": [
    "new_df.head()"
   ]
  },
  {
   "cell_type": "code",
   "execution_count": 9,
   "id": "cf2c7612",
   "metadata": {
    "execution": {
     "iopub.execute_input": "2022-12-06T10:50:24.015992Z",
     "iopub.status.busy": "2022-12-06T10:50:24.015563Z",
     "iopub.status.idle": "2022-12-06T10:50:24.032567Z",
     "shell.execute_reply": "2022-12-06T10:50:24.031257Z"
    },
    "papermill": {
     "duration": 0.025922,
     "end_time": "2022-12-06T10:50:24.035595",
     "exception": false,
     "start_time": "2022-12-06T10:50:24.009673",
     "status": "completed"
    },
    "tags": []
   },
   "outputs": [
    {
     "data": {
      "text/html": [
       "<div>\n",
       "<style scoped>\n",
       "    .dataframe tbody tr th:only-of-type {\n",
       "        vertical-align: middle;\n",
       "    }\n",
       "\n",
       "    .dataframe tbody tr th {\n",
       "        vertical-align: top;\n",
       "    }\n",
       "\n",
       "    .dataframe thead th {\n",
       "        text-align: right;\n",
       "    }\n",
       "</style>\n",
       "<table border=\"1\" class=\"dataframe\">\n",
       "  <thead>\n",
       "    <tr style=\"text-align: right;\">\n",
       "      <th></th>\n",
       "      <th>rank</th>\n",
       "      <th>tuition</th>\n",
       "      <th>enrollment</th>\n",
       "    </tr>\n",
       "  </thead>\n",
       "  <tbody>\n",
       "    <tr>\n",
       "      <th>rank</th>\n",
       "      <td>1.000000</td>\n",
       "      <td>-0.735247</td>\n",
       "      <td>-0.036580</td>\n",
       "    </tr>\n",
       "    <tr>\n",
       "      <th>tuition</th>\n",
       "      <td>-0.735247</td>\n",
       "      <td>1.000000</td>\n",
       "      <td>-0.376859</td>\n",
       "    </tr>\n",
       "    <tr>\n",
       "      <th>enrollment</th>\n",
       "      <td>-0.036580</td>\n",
       "      <td>-0.376859</td>\n",
       "      <td>1.000000</td>\n",
       "    </tr>\n",
       "  </tbody>\n",
       "</table>\n",
       "</div>"
      ],
      "text/plain": [
       "                rank   tuition  enrollment\n",
       "rank        1.000000 -0.735247   -0.036580\n",
       "tuition    -0.735247  1.000000   -0.376859\n",
       "enrollment -0.036580 -0.376859    1.000000"
      ]
     },
     "execution_count": 9,
     "metadata": {},
     "output_type": "execute_result"
    }
   ],
   "source": [
    "new_df.corr()"
   ]
  },
  {
   "cell_type": "code",
   "execution_count": 10,
   "id": "5ee7b0c7",
   "metadata": {
    "execution": {
     "iopub.execute_input": "2022-12-06T10:50:24.047246Z",
     "iopub.status.busy": "2022-12-06T10:50:24.046809Z",
     "iopub.status.idle": "2022-12-06T10:50:24.343807Z",
     "shell.execute_reply": "2022-12-06T10:50:24.341968Z"
    },
    "papermill": {
     "duration": 0.306229,
     "end_time": "2022-12-06T10:50:24.346825",
     "exception": false,
     "start_time": "2022-12-06T10:50:24.040596",
     "status": "completed"
    },
    "tags": []
   },
   "outputs": [
    {
     "data": {
      "text/plain": [
       "[<matplotlib.lines.Line2D at 0x7f6e3a8a9510>]"
      ]
     },
     "execution_count": 10,
     "metadata": {},
     "output_type": "execute_result"
    },
    {
     "data": {
      "image/png": "[encoded data removed]",
      "text/plain": [
       "<Figure size 432x288 with 1 Axes>"
      ]
     },
     "metadata": {
      "needs_background": "light"
     },
     "output_type": "display_data"
    }
   ],
   "source": [
    "model = Pipeline([\n",
    "    (\"scaler\", MinMaxScaler()),\n",
    "    (\"regressor\", LinearRegression())\n",
    "])\n",
    "X = new_df[\"rank\"].values\n",
    "Y = new_df[\"tuition\"].values\n",
    "result = model.fit(X.reshape(-1,1), Y.reshape(-1,1))\n",
    "Y_pred = model.predict(X.reshape(-1,1))\n",
    "plt.scatter(X, Y)\n",
    "plt.plot(X, Y_pred, color=\"red\")"
   ]
  },
  {
   "cell_type": "code",
   "execution_count": 11,
   "id": "2154216c",
   "metadata": {
    "execution": {
     "iopub.execute_input": "2022-12-06T10:50:24.360615Z",
     "iopub.status.busy": "2022-12-06T10:50:24.360126Z",
     "iopub.status.idle": "2022-12-06T10:50:24.369808Z",
     "shell.execute_reply": "2022-12-06T10:50:24.368432Z"
    },
    "papermill": {
     "duration": 0.020317,
     "end_time": "2022-12-06T10:50:24.372864",
     "exception": false,
     "start_time": "2022-12-06T10:50:24.352547",
     "status": "completed"
    },
    "tags": []
   },
   "outputs": [
    {
     "data": {
      "text/plain": [
       "(array([[-25867.71841635]]), array([47261.86559092]))"
      ]
     },
     "execution_count": 11,
     "metadata": {},
     "output_type": "execute_result"
    }
   ],
   "source": [
    "result[\"regressor\"].coef_, result[\"regressor\"].intercept_"
   ]
  }
 ],
 "metadata": {
  "kernelspec": {
   "display_name": "Python 3",
   "language": "python",
   "name": "python3"
  },
  "language_info": {
   "codemirror_mode": {
    "name": "ipython",
    "version": 3
   },
   "file_extension": ".py",
   "mimetype": "text/x-python",
   "name": "python",
   "nbconvert_exporter": "python",
   "pygments_lexer": "ipython3",
   "version": "3.7.12"
  },
  "papermill": {
   "default_parameters": {},
   "duration": 12.816969,
   "end_time": "2022-12-06T10:50:25.202655",
   "environment_variables": {},
   "exception": null,
   "input_path": "__notebook__.ipynb",
   "output_path": "__notebook__.ipynb",
   "parameters": {},
   "start_time": "2022-12-06T10:50:12.385686",
   "version": "2.3.4"
  }
 },
 "nbformat": 4,
 "nbformat_minor": 5
}
